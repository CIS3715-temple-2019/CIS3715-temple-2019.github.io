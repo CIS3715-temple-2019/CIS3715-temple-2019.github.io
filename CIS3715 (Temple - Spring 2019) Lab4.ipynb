{
 "cells": [
  {
   "cell_type": "markdown",
   "metadata": {},
   "source": [
    "# Lab 4\n",
    "## More Data Scraping and EDA\n",
    "\n",
    "In this lab, you will improve your skills in scraping data from web pages, organizing the data in a desired format, and performing EDA.\n",
    "\n",
    "For this lab, we are reusing code from Harvard's CS109: https://github.com/cs109/2015/blob/master/Lectures/02-DataScrapingQuizzes.ipynb\n",
    "\n",
    "## Lab3.A. Run code for scraping Indeed.com data\n",
    "\n",
    "You firs task will be to exectute the following blocks of code and try to understand what is happening after each line of the code. You will have to answer several questions to show your understanding.\n",
    "\n",
    "Let us start with importing of the relevant packages."
   ]
  },
  {
   "cell_type": "code",
   "execution_count": 135,
   "metadata": {},
   "outputs": [],
   "source": [
    "import requests\n",
    "import bs4 #this is beautiful soup\n",
    "\n",
    "import time\n",
    "from pandas import Series\n",
    "import pandas as pd\n",
    "from pandas import DataFrame\n",
    "import numpy as np\n",
    "import re\n",
    "\n",
    "import matplotlib\n",
    "import matplotlib.pyplot as plt\n",
    "%matplotlib inline"
   ]
  },
  {
   "cell_type": "markdown",
   "metadata": {},
   "source": [
    "As you see, you imported the package called `re`, which supports regular expression operations. You have already used the other packages. \n",
    "\n",
    "The following block will access and load the contents of an Indeed.com web page. It will probably give you a warning -- please ignore it."
   ]
  },
  {
   "cell_type": "code",
   "execution_count": 68,
   "metadata": {},
   "outputs": [],
   "source": [
    "# Fixed url for job postings containing data scientist\n",
    "url = 'http://www.indeed.com/jobs?q=data+scientist&l='\n",
    "# read the website\n",
    "source = requests.get(url).text\n",
    "# parse html code\n",
    "bs_tree = bs4.BeautifulSoup(source)"
   ]
  },
  {
   "cell_type": "markdown",
   "metadata": {},
   "source": [
    "**Question 1**:\n",
    " * What kind of page did you land on? Explain in a few sentences what is the content of this page.\n",
    " * What does the \"?\" and \"&\" in the url mean?\n",
    " * Explore the content of the web page. If you are using Firefox, open the page Inspector to understand how the underlying html code relates to the displayed content.\n",
    " * What pieces of the html code are responsible for showing the job title, company name, and job location?\n",
    " \n",
    "The following block of code will figure out how many job ads are there for jobs that contain \"data scientist' in the job title."
   ]
  },
  {
   "cell_type": "code",
   "execution_count": 69,
   "metadata": {},
   "outputs": [
    {
     "name": "stdout",
     "output_type": "stream",
     "text": [
      "Search yielded 32,935 hits.\n",
      "32935\n"
     ]
    }
   ],
   "source": [
    "# see how many job postings we found\n",
    "job_count_string = bs_tree.find(id = 'searchCount').contents[0]\n",
    "job_count_string = job_count_string.split()[-2]\n",
    "print(\"Search yielded %s hits.\" % (job_count_string))\n",
    "\n",
    "# not that job_count so far is still a string, \n",
    "# not an integer, and the , separator prevents \n",
    "# us from just casting it to int\n",
    "\n",
    "job_count_digits = [int(d) for d in job_count_string if d.isdigit()]\n",
    "job_count = np.sum([digit*(10**exponent) for digit, exponent in \n",
    "                    zip(job_count_digits[::-1], range(len(job_count_digits)))])\n",
    "\n",
    "print(job_count)"
   ]
  },
  {
   "cell_type": "markdown",
   "metadata": {},
   "source": [
    "**Question 2**:\n",
    "* What does the \"find(id = 'searchCount')\" in the first line mean?\n",
    "* What does the second line do?\n",
    "\n",
    "**Question 3**: \n",
    "* Write a piece of code that finds the Salary Estimate object on the page\n",
    "\n",
    "The following piece of code allows you to find the links to all the job ads on the page."
   ]
  },
  {
   "cell_type": "code",
   "execution_count": 128,
   "metadata": {},
   "outputs": [
    {
     "name": "stdout",
     "output_type": "stream",
     "text": [
      "We found a lot of jobs:  17\n"
     ]
    }
   ],
   "source": [
    "# The website is only listing 10 results per page, \n",
    "# so we need to scrape them page after page\n",
    "num_pages = int(np.ceil(job_count/10.0))\n",
    "\n",
    "base_url = 'http://www.indeed.com'\n",
    "job_links = []\n",
    "for i in range(1): #do range(num_pages) if you want them all\n",
    "    url = 'http://www.indeed.com/jobs?q=data+scientist&start=' + str(i*10)\n",
    "    html_page = requests.get(url).text\n",
    "    bs_tree = bs4.BeautifulSoup(html_page)\n",
    "    job_postings = bs_tree.findAll('div', attrs={'class':'jobsearch-SerpJobCard'})\n",
    "    job_ids = [jp.get('data-jk') for jp in job_postings]\n",
    "    # go after each link   \n",
    "    for id in job_ids:\n",
    "        job_links.append(base_url + '/viewjob?jk=' + id)\n",
    "\n",
    "    time.sleep(1)\n",
    "\n",
    "print(\"We found a lot of jobs: \", len(job_links))"
   ]
  },
  {
   "cell_type": "code",
   "execution_count": 129,
   "metadata": {},
   "outputs": [
    {
     "data": {
      "text/plain": [
       "['http://www.indeed.com/viewjob?jk=4543bc689388b739',\n",
       " 'http://www.indeed.com/viewjob?jk=f80ef95f1766184c',\n",
       " 'http://www.indeed.com/viewjob?jk=0c2e70c97ac092ac',\n",
       " 'http://www.indeed.com/viewjob?jk=1abee229f7c5b238',\n",
       " 'http://www.indeed.com/viewjob?jk=8b148d39abefa889',\n",
       " 'http://www.indeed.com/viewjob?jk=c29ec10470153175',\n",
       " 'http://www.indeed.com/viewjob?jk=2b76ea53c5c637eb',\n",
       " 'http://www.indeed.com/viewjob?jk=0ec46d3f5225ea3f',\n",
       " 'http://www.indeed.com/viewjob?jk=d8f38bd3602909e9',\n",
       " 'http://www.indeed.com/viewjob?jk=5589660aece65cd1',\n",
       " 'http://www.indeed.com/viewjob?jk=7175860677174438',\n",
       " 'http://www.indeed.com/viewjob?jk=3732427d3a63339e',\n",
       " 'http://www.indeed.com/viewjob?jk=e98277ef5bd08c42',\n",
       " 'http://www.indeed.com/viewjob?jk=644219870743de0e',\n",
       " 'http://www.indeed.com/viewjob?jk=87447773f926d8bc',\n",
       " 'http://www.indeed.com/viewjob?jk=d094066d7847bcd4',\n",
       " 'http://www.indeed.com/viewjob?jk=579b5b7fb4c45c9c']"
      ]
     },
     "execution_count": 129,
     "metadata": {},
     "output_type": "execute_result"
    }
   ],
   "source": [
    "job_links"
   ]
  },
  {
   "cell_type": "markdown",
   "metadata": {},
   "source": [
    "**Question 4**:\n",
    "* explain why is `url` (first line in the for loop) defined as it is. What page are you landing at when `i = 3`?\n",
    "\n",
    "* What does command `''bs_tree.findAll('div', attrs={'class':'jobsearch-SerpJobCard'})` do?\n",
    "* Explain the properties and content of `job_links`\n",
    "\n",
    "**Question 5**:\n",
    "* Reuse the code above to find links to the first 200 listed data science jobs\n",
    "\n",
    "The following piece of code accesses and grabs the content of all ads in the `job_links` and extracts all the human-readable text tokens. Then, it counts on how many pages are words `mapreduce`, `spark`, and `visualization` used. It might take a few seconds to execute."
   ]
  },
  {
   "cell_type": "code",
   "execution_count": 133,
   "metadata": {},
   "outputs": [
    {
     "name": "stdout",
     "output_type": "stream",
     "text": [
      "12\n",
      "{'mapreduce': 0, 'spark': 2, 'visualization': 1}\n",
      "7\n",
      "{'mapreduce': 0, 'spark': 6, 'visualization': 4}\n",
      "2\n",
      "{'mapreduce': 0, 'spark': 9, 'visualization': 6}\n",
      "{'mapreduce': 0, 'spark': 10, 'visualization': 8}\n"
     ]
    }
   ],
   "source": [
    "skill_set = {'mapreduce':0, 'spark':0, 'visualization':0}\n",
    "counter = 0\n",
    "for link in job_links:\n",
    "    counter +=1  \n",
    "    \n",
    "    try:\n",
    "        html_page = requests.get(link).text\n",
    "    except urllib2.HTTPError:\n",
    "        print(\"HTTPError:\")\n",
    "        continue\n",
    "    except urllib2.URLError:\n",
    "        print(\"URLError:\")\n",
    "        continue\n",
    "    except socket.error as error:\n",
    "        print(\"Connection closed\")\n",
    "        continue\n",
    "\n",
    "    html_text = re.sub(\"[^a-z.+3]\",\" \", html_page.lower()) # replace all but the listed characters\n",
    "        \n",
    "    for key in skill_set.keys():\n",
    "        if key in html_text:  \n",
    "            skill_set[key] +=1\n",
    "            \n",
    "    if counter % 5 == 0:\n",
    "        print(len(job_links) - counter)\n",
    "        print(skill_set)\n",
    "            \n",
    "print(skill_set)"
   ]
  },
  {
   "cell_type": "markdown",
   "metadata": {},
   "source": [
    "**Question 6**\n",
    "* What does the `re.sub()` do in the above code? To answer this, you will have to go to the documentation of the regular expression package (find it on web).\n",
    "* What is the meaning of `[^a-z.+3]`?\n",
    "* What is the content of `skill_set`?\n",
    "\n",
    "The following piece of code plots the counts of different skills in the processed ads."
   ]
  },
  {
   "cell_type": "code",
   "execution_count": 134,
   "metadata": {},
   "outputs": [
    {
     "data": {
      "image/png": "[encoded data removed]",
      "text/plain": [
       "<Figure size 432x288 with 1 Axes>"
      ]
     },
     "metadata": {
      "needs_background": "light"
     },
     "output_type": "display_data"
    }
   ],
   "source": [
    "pseries = pd.Series(skill_set)\n",
    "pseries.sort_values(ascending=False)\n",
    "\n",
    "pseries.plot(kind = 'bar')\n",
    "## set the title to Score Comparison\n",
    "plt.title('Data Science Skills')\n",
    "## set the x label\n",
    "plt.xlabel('Skills')\n",
    "## set the y label\n",
    "plt.ylabel('Count')\n",
    "## show the plot\n",
    "plt.show()"
   ]
  },
  {
   "cell_type": "markdown",
   "metadata": {},
   "source": [
    "**Question 7**:\n",
    "- rerun the code to find the counts of the 3 data science skills on the first 200 job ads"
   ]
  },
  {
   "cell_type": "markdown",
   "metadata": {
    "collapsed": true
   },
   "source": [
    "## Lab 3.B: Data analysis of job skills\n",
    "In the first part of the lab, you created `skill_set` dictionary that counts occurences of 3 important data science skills. In this part of the lab we are asking you to create pandas `DataFrame` object as a table whose rows correspond to individual ads and columns correspond to important information about the ads and skills mentioned on those pages. Let us call the table `job_ads`. Process the first 1,000 data science ads, so your table should have 1,000 rows. For each ad, you will have to create the following columns:\n",
    "- job title\n",
    "- company name\n",
    "- job location\n",
    "- skill 1\n",
    "- skill 2\n",
    "- ...\n",
    "- skill 20\n",
    "\n",
    "Job title, company name, and job locations will be readable from the Indeed.com page. We are asking you to list 20 skills, instead of only 3 in the code above ('mapreduce', 'spark', 'visualization'). You will need to find another 17 words that are commonly used in data science job ads. To do it, please explore the content of at least 10 ads.\n",
    "\n",
    "Once you creat your `job_ads` table, please preform EDA of the table, in a similar way you did in Lab 2: provide code and a 2-page document that summarizes interesitng insights about the first 1,000 data science jobs.\n",
    "\n",
    "**Deliverables**:\n",
    "- the modified Lab 4 .ipynb file that contains all the answers to the questions\n",
    "- a 2-page documents presenting the results of your EDA of the `job_ads` data"
   ]
  },
  {
   "cell_type": "code",
   "execution_count": null,
   "metadata": {
    "collapsed": true
   },
   "outputs": [],
   "source": []
  }
 ],
 "metadata": {
  "anaconda-cloud": {},
  "kernelspec": {
   "display_name": "Python 3",
   "language": "python",
   "name": "python3"
  },
  "language_info": {
   "codemirror_mode": {
    "name": "ipython",
    "version": 3
   },
   "file_extension": ".py",
   "mimetype": "text/x-python",
   "name": "python",
   "nbconvert_exporter": "python",
   "pygments_lexer": "ipython3",
   "version": "3.6.5"
  }
 },
 "nbformat": 4,
 "nbformat_minor": 2
}
