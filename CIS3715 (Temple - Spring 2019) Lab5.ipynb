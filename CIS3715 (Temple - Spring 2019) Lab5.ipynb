{
 "cells": [
  {
   "cell_type": "markdown",
   "metadata": {},
   "source": [
    "# Lab 5: Singular Value Decomposition\n",
    "\n",
    "In this lab, you will learn gain more experience with ranks and Singular Value Decomposition (SVD) and learn how to use SVD in data science.\n",
    "\n",
    "## Lab 5.A: SVD Tutorial with Questions (25% of the lab grade)\n",
    "\n",
    "Let us start by importing two libraries, numpy and matplotlib. "
   ]
  },
  {
   "cell_type": "code",
   "execution_count": null,
   "metadata": {},
   "outputs": [],
   "source": [
    "import numpy as np\n",
    "import pandas as pd \n",
    "import matplotlib.pyplot as plt\n",
    "%matplotlib inline"
   ]
  },
  {
   "cell_type": "markdown",
   "metadata": {},
   "source": [
    "First, we will learn how to create matrices of any dimension that have a specified rank. To create a rank-1 matrix $A_{nxm}$, it is sufficient to define two vectors, $u_{[nx1]}$ and $v_{[mx1]}$ and find their *outer product*, $A = u \\cdot v^T$."
   ]
  },
  {
   "cell_type": "code",
   "execution_count": null,
   "metadata": {},
   "outputs": [],
   "source": [
    "# A simple rank-1 matrix of dimension 5x4\n",
    "u = np.transpose([[1,1,1,1,1]])\n",
    "print('vector u:  ')\n",
    "print(u)\n",
    "v = np.transpose([[1,2,3,4]])\n",
    "print('vector v:   ')\n",
    "print(v)\n",
    "A = np.dot(u,np.transpose(v))\n",
    "print('matrix A:   ')\n",
    "print(A)\n",
    "print('rank of matrix A:   ')\n",
    "print(np.linalg.matrix_rank(A)) \n",
    "\n",
    "# A more complicated rank-1 matrix of dimension 5x4\n",
    "u = np.transpose([[1,2,3,4,5]])\n",
    "print('vector u:  ')\n",
    "print(u)\n",
    "v = np.transpose([[1,2,3,4]])\n",
    "print('vector v:   ')\n",
    "print(v)\n",
    "A = np.dot(u,np.transpose(v))\n",
    "print('matrix A:   ')\n",
    "print(A)\n",
    "\n",
    "print('rank of matrix A:   ')\n",
    "print(np.linalg.matrix_rank(A))\n",
    "print('size of A:')\n",
    "print(np.shape(A))\n",
    "print('type of objects u and A:')\n",
    "print(type(u), type(A))"
   ]
  },
  {
   "cell_type": "markdown",
   "metadata": {},
   "source": [
    "To generate a rank-2 matrix $A_{nxm}$, it is sufficient to define two pairs of vectors $(u_1,v_1)$ and $(u_2,v_2)$, where length of $u_1$ and $u_2$ is $n$ and length of $v_1$ and $v_2$ is $m$, calculate their *outer products* and add them up, $A = u_1 \\cdot v_1^T + u_2 \\cdot v_2^T$. "
   ]
  },
  {
   "cell_type": "code",
   "execution_count": null,
   "metadata": {},
   "outputs": [],
   "source": [
    "# A simple rank-2 matrix of dimension 5x4\n",
    "u1 = np.transpose([[1,1,1,1,1]])\n",
    "u2 = np.transpose([[1,2,1,2,1]])\n",
    "print('vector u1:  ')\n",
    "print(u1)\n",
    "print('vector u2:  ')\n",
    "print(u2)\n",
    "v1 = np.transpose([[1,0,2]])\n",
    "v2 = np.transpose([[0,1,1]])\n",
    "print('vector v1:   ')\n",
    "print(v1)\n",
    "print('vector v2:   ')\n",
    "print(v2)\n",
    "A = np.dot(u1,np.transpose(v1)) + np.dot(u2,np.transpose(v2))\n",
    "print('matrix A:   ')\n",
    "print(A)\n",
    "print('rank of matrix A:   ')\n",
    "print(np.linalg.matrix_rank(A))"
   ]
  },
  {
   "cell_type": "markdown",
   "metadata": {},
   "source": [
    "A more compact way to do exactly the same is to create a matrix $U$ by concatenating vectors $u_1$ and $u_2$ and matrix $V$ by concatenating vectors $v_1$ and $v_2$, as $U = [u_1 u_2]$ and $V = [v_1 v_2]$   "
   ]
  },
  {
   "cell_type": "code",
   "execution_count": null,
   "metadata": {},
   "outputs": [],
   "source": [
    "# An alternative way of creating a rank-2 matrix\n",
    "U = np.concatenate((u1,u2), axis = 1)\n",
    "print(U)\n",
    "V = np.concatenate((v1,v2), axis = 1)\n",
    "print(V)\n",
    "A = np.dot(U,np.transpose(V))\n",
    "print('matrix A:   ')\n",
    "print(A)\n",
    "print('rank of matrix A:   ')\n",
    "print(np.linalg.matrix_rank(A))"
   ]
  },
  {
   "cell_type": "markdown",
   "metadata": {},
   "source": [
    "**Question 1**. Explain why the previous 2 ways of creating the rank-2 matrix end up in exactly the same result. (*Note*: it is very important to understand why, so thake some time to think about it. It is acceptable to work out your explanation on a piece of paper and submit a photo of it as pdf file)\n",
    "\n",
    "**Question 2**. Write a piece of code that generates a rank-3 matrix of dimension 6x5"
   ]
  },
  {
   "cell_type": "markdown",
   "metadata": {},
   "source": [
    "Here is another way to quickly generate a large low-rank matrix. "
   ]
  },
  {
   "cell_type": "code",
   "execution_count": null,
   "metadata": {},
   "outputs": [],
   "source": [
    "A = np.dot(np.transpose([[1,1,1,1,1],[1,2,1,2,1]]),np.random.rand(2,100))"
   ]
  },
  {
   "cell_type": "markdown",
   "metadata": {},
   "source": [
    "**Question 3**. \n",
    "- What is the size of matrix A?\n",
    "- What does the command `np.random.rand(2,100)` do?\n",
    "- What is the rank of A? Why?"
   ]
  },
  {
   "cell_type": "markdown",
   "metadata": {},
   "source": [
    "The rank of a zero matrix is always zero."
   ]
  },
  {
   "cell_type": "code",
   "execution_count": null,
   "metadata": {},
   "outputs": [],
   "source": [
    "A = np.zeros((20,4))\n",
    "print(A)\n",
    "print(np.linalg.matrix_rank(A))"
   ]
  },
  {
   "cell_type": "markdown",
   "metadata": {},
   "source": [
    "Let us now load Temple T data set and draw a scatter plot. "
   ]
  },
  {
   "cell_type": "code",
   "execution_count": null,
   "metadata": {},
   "outputs": [],
   "source": [
    "A = np.loadtxt('d_temple.csv', delimiter=\",\",dtype='float')\n",
    "print(A)\n",
    "print('The dimensions of A are: ' , np.shape(A))\n",
    "plt.scatter(A[:,0],A[:,1],color='red');\n",
    "plt.axis('equal');"
   ]
  },
  {
   "cell_type": "markdown",
   "metadata": {},
   "source": [
    "Let us see the effect of some transformations of A."
   ]
  },
  {
   "cell_type": "code",
   "execution_count": null,
   "metadata": {},
   "outputs": [],
   "source": [
    "# Generate a random \"projection\" matrix\n",
    "T = np.random.rand(2,2)\n",
    "print(T)\n",
    "# Multiply A with R\n",
    "A2 = np.dot(A,T)\n",
    "plt.scatter(A2[:,0],A2[:,1],color='red');\n",
    "plt.axis('equal');"
   ]
  },
  {
   "cell_type": "code",
   "execution_count": null,
   "metadata": {},
   "outputs": [],
   "source": [
    "# Generate a \"scaling\" matrix\n",
    "T = [[1,0],[0,3]]\n",
    "print(T)\n",
    "# Multiply A with R\n",
    "A2 = np.dot(A,T)\n",
    "plt.scatter(A2[:,0],A2[:,1],color='red');\n",
    "plt.axis('equal');"
   ]
  },
  {
   "cell_type": "code",
   "execution_count": null,
   "metadata": {},
   "outputs": [],
   "source": [
    "# Generate a \"rotation\" matrix\n",
    "angle = 1.1\n",
    "T = [[np.cos(angle),np.sin(angle)],[-np.sin(angle),np.cos(angle)]]\n",
    "print(T)\n",
    "# Multiply A with R\n",
    "A2 = np.dot(A,T)\n",
    "plt.scatter(A2[:,0],A2[:,1],color='red');\n",
    "plt.axis('equal');"
   ]
  },
  {
   "cell_type": "markdown",
   "metadata": {},
   "source": [
    "**Question 4**. Create a letter T that is 2 times wider than its original version and then rotated by 145 degrees counterclock-wise."
   ]
  },
  {
   "cell_type": "markdown",
   "metadata": {},
   "source": [
    "Let us now create a rank-2 large matrix out of Temple data, which has 100 attributes (columns)."
   ]
  },
  {
   "cell_type": "code",
   "execution_count": null,
   "metadata": {},
   "outputs": [],
   "source": [
    "T = np.random.rand(2,100)\n",
    "Abig = np.dot(A, T)\n",
    "print(np.shape(Abig))\n",
    "# to plot a scatterplot of the first 4 columns... it will take a minute...\n",
    "\n",
    "pd.scatter_matrix(pd.DataFrame(Abig[:,1:5]), alpha=0.2, figsize=(6, 6));"
   ]
  },
  {
   "cell_type": "markdown",
   "metadata": {},
   "source": [
    "**Question 5**. What is the rank of `Abig` and why?\n",
    "\n",
    "Let us perform SVD on matrix `Abig`."
   ]
  },
  {
   "cell_type": "code",
   "execution_count": null,
   "metadata": {},
   "outputs": [],
   "source": [
    "# SVD\n",
    "U,s,V = np.linalg.svd(Abig,full_matrices=0)\n",
    "print(U.shape, s.shape, V.shape)\n",
    "print('the first 10 singular values:', s[0:10])"
   ]
  },
  {
   "cell_type": "markdown",
   "metadata": {},
   "source": [
    "Let us find a rank-2 approximation of `Abig`"
   ]
  },
  {
   "cell_type": "code",
   "execution_count": null,
   "metadata": {},
   "outputs": [],
   "source": [
    "# Find rank-2 aproximation\n",
    "k = 2\n",
    "Ak = np.dot(U[:,0:k],np.dot(np.diag(s)[0:k,0:k], V[0:k,:]))\n",
    "print('Norm of Abig:  ', np.linalg.norm(Abig, ord=2))\n",
    "print('First 10 singular values: ',  s[0:10])\n",
    "print('Norm of difference Abig-Ak = ', np.linalg.norm(Abig - Ak, ord=2))\n"
   ]
  },
  {
   "cell_type": "markdown",
   "metadata": {},
   "source": [
    "**Question 6**.\n",
    "- Find the Frobenius norm of the difference `Abig - Ak`\n",
    "- Find rank-1 approximation of `Abig`. What is the 2 norm and Frobenius norm of the difference? Discuss.\n",
    "- Find rank-3 approximation of `Abig`. What is the 2 norm and Frobenius norm of the difference? Discuss."
   ]
  },
  {
   "cell_type": "markdown",
   "metadata": {},
   "source": [
    "Let us visualize the scatter-plot of the first two columns of `U` (the first two left singular vectors)"
   ]
  },
  {
   "cell_type": "code",
   "execution_count": null,
   "metadata": {},
   "outputs": [],
   "source": [
    "plt.scatter(U[:,0],U[:,1],color='red');"
   ]
  },
  {
   "cell_type": "markdown",
   "metadata": {},
   "source": [
    "Perfect:  the first two columns of `U` are sufficient to reconstruct letter T!\n",
    "\n",
    "Let us generate a noisy version of `Abig`"
   ]
  },
  {
   "cell_type": "code",
   "execution_count": null,
   "metadata": {},
   "outputs": [],
   "source": [
    "Abig_noise = Abig + np.random.randn(28226,100)*0.5 "
   ]
  },
  {
   "cell_type": "markdown",
   "metadata": {},
   "source": [
    "**Question 7**. \n",
    "- Plot the scatterplot of the first 5 columns of `Abig_noise`. Discuss what you see.\n",
    "- Perform SVD on `Abig_noise`. What are the first 10 singular values?\n",
    "- Find the rank-2 approximation of this `Abig_noise`. What is the norm of the difference?\n",
    "- Plot the scatterplot of the first two columns of `U`. Discuss what you see and why."
   ]
  },
  {
   "cell_type": "markdown",
   "metadata": {},
   "source": [
    "## Lab 5.B: Apply SVD on real data (75% of the lab grade)\n",
    "\n",
    "In this par tof the lab you will be studying 2 real-life data sets: *Iris* and *Newsgroups*.\n",
    "\n",
    "### Iris Data Analysis\n",
    "Download `iris.csv` file to your local folder. This is a famous data set for benchmarking of data science algorithms. You can access the original data from https://archive.ics.uci.edu/ml/datasets/Iris and you can learn more about it from https://en.wikipedia.org/wiki/Iris_flower_data_set. Please take a moment to read about it.\n",
    "\n",
    "Load `iris.csv` into Python:"
   ]
  },
  {
   "cell_type": "code",
   "execution_count": null,
   "metadata": {},
   "outputs": [],
   "source": [
    "# load the matrix\n",
    "d = np.loadtxt('iris.csv', delimiter=\",\",usecols=(0,1,2,3))\n",
    "# with the following command you will create a vector that reveals what type of Iris is represented in each row\n",
    "y = np.array([1]*50+[2]*50+[3]*50)"
   ]
  },
  {
   "cell_type": "markdown",
   "metadata": {},
   "source": [
    "**Question 8**.\n",
    "- How large is the data set?\n",
    "- Plot the scatter plot ofr each pair of the attributes. Do you see any correlations? What are the correlations between the attributes?\n",
    "- Plot the scatterplot between the first two attributes, but this type use different color for different values of `y`. Can you clearly discriminate between different colors on the scatterplot? Plot the same type of the scatter plot, but this time  using different pairs of attributes. Which pair of attributes separates the colors the best?\n",
    "- What is the rank of `d`?\n",
    "\n",
    "**Question 9**. Apply SVD on matrix `d`. \n",
    "- Look at the singular values. What do they tell us about the possibility to approximate `d` with a lower rank matrix?\n",
    "- Calculate rank-2 approximation of `d`. Let us call it `d2`. Plot the scatterplot for each pair of attributes in `d2` and use `y` to color the dots. Is it easier or more difficult to distinguish different values of `y`?\n",
    "- Plot the scatter plot of the first 2 columns of the `U` matrix (the left singular matrix). Is it easier or more dificult to distinguish between different values of `y`? Please discuss your findings."
   ]
  },
  {
   "cell_type": "markdown",
   "metadata": {},
   "source": [
    "### Newsgoups data analysis\n",
    "\n",
    "Download `documents.csv`, `newsgroup.csv`, `groupnames.csv`, `wordlist.csv` to your local folder. This data set is about 16,242 news articles. Each article is represented as a bag-of-word vector containing counts of 100 words from a dictionary. This is saved in `documents`. The dictionary words are represented in the `wordlist`. Each document belongs to one of the 4 types of articles, listed in `froupnames`. We know the assignment of each document to one of those groups based on `newsgroup` values."
   ]
  },
  {
   "cell_type": "code",
   "execution_count": null,
   "metadata": {},
   "outputs": [],
   "source": [
    "wordlist = np.loadtxt('wordlist.csv', delimiter=\",\",dtype='str')\n",
    "documents = np.loadtxt('documents.csv', delimiter=\",\",dtype='int')\n",
    "documents = np.transpose(documents)\n",
    "newsgroup = np.loadtxt('newsgroup.csv', delimiter=\",\",dtype='int')\n",
    "groupnames = np.loadtxt('groupnames.csv', delimiter=\",\",dtype='str')\n"
   ]
  },
  {
   "cell_type": "markdown",
   "metadata": {},
   "source": [
    "**Question 9**. \n",
    "- find the counts of each of the 100 words and plot the bar plot of the counts. Which words are the most popular?\n",
    "- find the counts of the 4 types of articles in the documents. Which type of article is the most popular?\n",
    "\n",
    "Since the `documents` matrix is huge, we cannot do too much to further explore it. That is why we will try with the SVD.\n",
    "\n",
    "**Question 10**.\n",
    "- what is the rank of `documents`?\n",
    "- perform SVD of documents\n",
    "- list the first 10 singular values. Plot all 100 singular values. What can we conclude with the respect to low-rank approximation of the matrix?\n",
    "- let us plot the scatterplot of the first 2 rows of `V`. Use plt.text method to plot the name of each dot (use `wordlist` values) above each dot. Discuss what you see.\n",
    "- let us plot the scatterplot of the first 2 columns of `U`. Since `U` is to big, you can randomly select 1000 rows to plot. Use 4 colors to render each dot by its group name. Discuss what you see.\n",
    "\n",
    "The following lines of code will be useful for plotting. Consider reusing them in your study:"
   ]
  },
  {
   "cell_type": "code",
   "execution_count": null,
   "metadata": {},
   "outputs": [],
   "source": [
    "U,s,V=np.linalg.svd(documents,full_matrices=0)\n",
    "for x,y,text in zip(V[0]+0.5,V[1]+0.5,wordlist):\n",
    "    plt.text(x,y,text,fontsize=14)\n",
    "plt.figure()\n",
    "\n",
    "sc=plt.scatter(U[:,0],U[:,1],30,newsgroup,facecolors='none')\n",
    "plt.colorbar(sc)\n",
    "plt.show()\n",
    "\n",
    "r=np.random.randint(0,16242,100)\n",
    "plt.figure()\n",
    "for x,y,groupname in zip(U[r,0]+0.5,U[r,1]+0.5,groupnames[newsgroup[r]-1]):\n",
    "    plt.text(x,y,groupname,fontsize=14)\n",
    "\n",
    "c = ['red','green','blue','cyan']\n",
    "plt.figure()\n",
    "for i in range(1,5):\n",
    "    q=np.where(newsgroup==i)[0]\n",
    "    r1 = np.random.randint(0,len(q),50)\n",
    "    r=q[r1]\n",
    "    for x,y,groupname in zip(U[r,0]+0.5,U[r,1]+0.5,groupnames[newsgroup[r]-1]):\n",
    "        plt.text(x,y,groupname,color=c[i-1],fontsize=14)\n",
    "    print(i)"
   ]
  }
 ],
 "metadata": {
  "anaconda-cloud": {},
  "kernelspec": {
   "display_name": "Python 2",
   "language": "python",
   "name": "python2"
  },
  "language_info": {
   "codemirror_mode": {
    "name": "ipython",
    "version": 2
   },
   "file_extension": ".py",
   "mimetype": "text/x-python",
   "name": "python",
   "nbconvert_exporter": "python",
   "pygments_lexer": "ipython2",
   "version": "2.7.15"
  }
 },
 "nbformat": 4,
 "nbformat_minor": 1
}
